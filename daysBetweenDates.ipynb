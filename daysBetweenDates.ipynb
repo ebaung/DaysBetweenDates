{
 "cells": [
  {
   "cell_type": "markdown",
   "metadata": {},
   "source": [
    "# Days Between Dates\n",
    "\n",
    "This lesson will focus on one problem: calculating the number of days between two dates. \n",
    "\n",
    "This workspace is yours to use in whatever way is helpful. You might want to keep it open in a second tab as you go through the videos. \n",
    "\n"
   ]
  },
  {
   "cell_type": "code",
   "execution_count": 40,
   "metadata": {},
   "outputs": [
    {
     "name": "stdout",
     "output_type": "stream",
     "text": [
      "Congratulations! Your daysBetweenDates\n",
      "function is working correctly!\n"
     ]
    }
   ],
   "source": [
    "def daysBetweenDates(year1, month1, day1, year2, month2, day2):\n",
    "    \"\"\"\n",
    "    Calculates the number of days between two dates.\n",
    "    \"\"\"\n",
    "    \n",
    "    # TODO - by the end of this lesson you will have\n",
    "    #  completed this function. You do not need to complete\n",
    "    #  it yet though! \n",
    "    #Jan = 31\n",
    "    #Feb = 28/29* every 4th year\n",
    "    #Mar = 31\n",
    "    #Apr = 30\n",
    "    #May = 31\n",
    "    #June = 30\n",
    "    #Jul = 31\n",
    "    #Aug = 31\n",
    "    #Sep = 30\n",
    "    #Oct = 31\n",
    "    #Nov = 30\n",
    "    #Dec = 31\n",
    "    months = {0:0,1:31,2:28+31,3:31+28+31,4:31+28+31+30,5:31+28+31+30+31,6:31+28+31+30+31+30,7:31+28+31+30+31+30+31,8:31+28+31+30+31+30+31+31,9:31+28+31+30+31+30+31+31+30,10:31+28+31+30+31+30+31+31+30+31,11:31+28+31+30+31+30+31+31+30+31+30,12:31+28+31+30+31+30+31+31+30+31+30+31}\n",
    "    tally2 = 365*(year2 - 1) + months[month2 - 1] + day2\n",
    "    tally1 = 365*(year1 - 1) + months[month1 - 1] + day1\n",
    "    \n",
    "    if year2%4 == 0 and month2 > 2:\n",
    "        tally2 += 1\n",
    "    if year1%4 == 0 and month1 < 3 and day1 <= 28:\n",
    "        tally1 += 1\n",
    "    \n",
    "    days = tally2 - tally1\n",
    "                 \n",
    "    return days\n",
    "\n",
    "def testDaysBetweenDates():\n",
    "    \n",
    "    # test same day\n",
    "    assert(daysBetweenDates(2017, 12, 30,\n",
    "                              2017, 12, 30) == 0)\n",
    "    # test adjacent days\n",
    "    assert(daysBetweenDates(2017, 12, 30, \n",
    "                              2017, 12, 31) == 1)\n",
    "    # test new year\n",
    "    assert(daysBetweenDates(2017, 12, 30, \n",
    "                              2018, 1,  1)  == 2)\n",
    "    # test full year difference\n",
    "    assert(daysBetweenDates(2012, 6, 29,\n",
    "                              2013, 6, 29)  == 365)\n",
    "    \n",
    "    print(\"Congratulations! Your daysBetweenDates\")\n",
    "    print(\"function is working correctly!\")\n",
    "    \n",
    "testDaysBetweenDates()"
   ]
  },
  {
   "cell_type": "code",
   "execution_count": 41,
   "metadata": {},
   "outputs": [
    {
     "name": "stdout",
     "output_type": "stream",
     "text": [
      "year2 - 1 = 735840, month2 - 1 = 334, day2 = 30, tally2 = 736204\n",
      "year1 - 1 = 735840, month1 - 1 = 334, day1 = 30, tally1 = 736204\n",
      "0\n"
     ]
    }
   ],
   "source": [
    "year1, month1, day1, year2, month2, day2 = 2017, 12, 30, 2017, 12, 30\n",
    "months = {0:0,1:31,2:28+31,3:31+28+31,4:31+28+31+30,5:31+28+31+30+31,6:31+28+31+30+31+30,7:31+28+31+30+31+30+31,8:31+28+31+30+31+30+31+31,9:31+28+31+30+31+30+31+31+30,10:31+28+31+30+31+30+31+31+30+31,11:31+28+31+30+31+30+31+31+30+31+30,12:31+28+31+30+31+30+31+31+30+31+30+31}\n",
    "tally2 = 365*(year2 - 1) + months[month2 - 1] + day2\n",
    "tally1 = 365*(year1 - 1) + months[month1 - 1] + day1\n",
    "    \n",
    "if year2%4 == 0 and month2 > 2:\n",
    "    tally2 += 1\n",
    "if year1%4 == 0 and month1 < 3 and day1 <= 28:\n",
    "    tally1 += 1\n",
    "print(\"year2 - 1 = {}, month2 - 1 = {}, day2 = {}, tally2 = {}\".format(365*(year2 - 1), months[month2 - 1], day2, tally2))\n",
    "print(\"year1 - 1 = {}, month1 - 1 = {}, day1 = {}, tally1 = {}\".format(365*(year1 - 1), months[month1 - 1], day1, tally1))\n",
    "    \n",
    "days = tally2 - tally1\n",
    "print(days)"
   ]
  },
  {
   "cell_type": "code",
   "execution_count": 42,
   "metadata": {},
   "outputs": [
    {
     "name": "stdout",
     "output_type": "stream",
     "text": [
      "year2 - 1 = 735840, month2 - 1 = 334, day2 = 31, tally2 = 736205\n",
      "year1 - 1 = 735840, month1 - 1 = 334, day1 = 30, tally1 = 736204\n",
      "1\n"
     ]
    }
   ],
   "source": [
    "year1, month1, day1, year2, month2, day2 = 2017, 12, 30, 2017, 12, 31\n",
    "months = {0:0,1:31,2:28+31,3:31+28+31,4:31+28+31+30,5:31+28+31+30+31,6:31+28+31+30+31+30,7:31+28+31+30+31+30+31,8:31+28+31+30+31+30+31+31,9:31+28+31+30+31+30+31+31+30,10:31+28+31+30+31+30+31+31+30+31,11:31+28+31+30+31+30+31+31+30+31+30,12:31+28+31+30+31+30+31+31+30+31+30+31}\n",
    "tally2 = 365*(year2 - 1) + months[month2 - 1] + day2\n",
    "tally1 = 365*(year1 - 1) + months[month1 - 1] + day1\n",
    "    \n",
    "if year2%4 == 0 and month2 > 2:\n",
    "    tally2 += 1\n",
    "if year1%4 == 0 and month1 < 3 and day1 <= 28:\n",
    "    tally1 += 1\n",
    "print(\"year2 - 1 = {}, month2 - 1 = {}, day2 = {}, tally2 = {}\".format(365*(year2 - 1), months[month2 - 1], day2, tally2))\n",
    "print(\"year1 - 1 = {}, month1 - 1 = {}, day1 = {}, tally1 = {}\".format(365*(year1 - 1), months[month1 - 1], day1, tally1))\n",
    "\n",
    "days = tally2 - tally1\n",
    "print(days)"
   ]
  },
  {
   "cell_type": "code",
   "execution_count": 43,
   "metadata": {},
   "outputs": [
    {
     "name": "stdout",
     "output_type": "stream",
     "text": [
      "year2 - 1 = 736205, month2 - 1 = 0, day2 = 1, tally2 = 736206\n",
      "year1 - 1 = 735840, month1 - 1 = 334, day1 = 30, tally1 = 736204\n",
      "2\n"
     ]
    }
   ],
   "source": [
    "year1, month1, day1, year2, month2, day2 = 2017, 12,30, 2018, 1, 1\n",
    "months = {0:0,1:31,2:28+31,3:31+28+31,4:31+28+31+30,5:31+28+31+30+31,6:31+28+31+30+31+30,7:31+28+31+30+31+30+31,8:31+28+31+30+31+30+31+31,9:31+28+31+30+31+30+31+31+30,10:31+28+31+30+31+30+31+31+30+31,11:31+28+31+30+31+30+31+31+30+31+30,12:31+28+31+30+31+30+31+31+30+31+30+31}\n",
    "tally2 = 365*(year2 - 1) + months[month2 - 1] + day2\n",
    "tally1 = 365*(year1 - 1) + months[month1 - 1] + day1\n",
    "    \n",
    "if year2%4 == 0 and month2 > 2:\n",
    "    tally2 += 1\n",
    "if year1%4 == 0 and month1 < 3 and day1 <= 28:\n",
    "    tally1 += 1\n",
    "    \n",
    "days = tally2 - tally1\n",
    "print(\"year2 - 1 = {}, month2 - 1 = {}, day2 = {}, tally2 = {}\".format(365*(year2 - 1), months[month2 - 1], day2, tally2))\n",
    "print(\"year1 - 1 = {}, month1 - 1 = {}, day1 = {}, tally1 = {}\".format(365*(year1 - 1), months[month1 - 1], day1, tally1))\n",
    "# print(tally1)\n",
    "# print(365*(year1 - 1), months[month1 - 1], day1, tally1)\n",
    "print(days)"
   ]
  },
  {
   "cell_type": "code",
   "execution_count": 44,
   "metadata": {},
   "outputs": [
    {
     "name": "stdout",
     "output_type": "stream",
     "text": [
      "year2 - 1 = 734380, month2 - 1 = 151, day2 = 29, tally2 = 734560\n",
      "year1 - 1 = 734015, month1 - 1 = 151, day1 = 29, tally1 = 734195\n",
      "365\n"
     ]
    }
   ],
   "source": [
    "year1, month1, day1, year2, month2, day2 = 2012, 6, 29, 2013, 6, 29\n",
    "months = {0:0,1:31,2:28+31,3:31+28+31,4:31+28+31+30,5:31+28+31+30+31,6:31+28+31+30+31+30,7:31+28+31+30+31+30+31,8:31+28+31+30+31+30+31+31,9:31+28+31+30+31+30+31+31+30,10:31+28+31+30+31+30+31+31+30+31,11:31+28+31+30+31+30+31+31+30+31+30,12:31+28+31+30+31+30+31+31+30+31+30+31}\n",
    "tally2 = 365*(year2 - 1) + months[month2 - 1] + day2\n",
    "tally1 = 365*(year1 - 1) + months[month1 - 1] + day1\n",
    "    \n",
    "if year2%4 == 0 and month2 > 2:\n",
    "    tally2 += 1\n",
    "if year1%4 == 0 and month1 < 3 and day1 <= 28:\n",
    "    tally1 += 1\n",
    "print(\"year2 - 1 = {}, month2 - 1 = {}, day2 = {}, tally2 = {}\".format(365*(year2 - 1), months[month2 - 1], day2, tally2))\n",
    "print(\"year1 - 1 = {}, month1 - 1 = {}, day1 = {}, tally1 = {}\".format(365*(year1 - 1), months[month1 - 1], day1, tally1))\n",
    "\n",
    "    \n",
    "days = tally2 - tally1\n",
    "print(days)\n"
   ]
  }
 ],
 "metadata": {
  "kernelspec": {
   "display_name": "Python 3",
   "language": "python",
   "name": "python3"
  },
  "language_info": {
   "codemirror_mode": {
    "name": "ipython",
    "version": 3
   },
   "file_extension": ".py",
   "mimetype": "text/x-python",
   "name": "python",
   "nbconvert_exporter": "python",
   "pygments_lexer": "ipython3",
   "version": "3.6.3"
  }
 },
 "nbformat": 4,
 "nbformat_minor": 2
}
